{
  "cells": [
    {
      "cell_type": "markdown",
      "metadata": {
        "id": "view-in-github",
        "colab_type": "text"
      },
      "source": [
        "<a href=\"https://colab.research.google.com/github/pjimenezq/Taller_2/blob/main/punto2.ipynb\" target=\"_parent\"><img src=\"https://colab.research.google.com/assets/colab-badge.svg\" alt=\"Open In Colab\"/></a>"
      ]
    },
    {
      "cell_type": "markdown",
      "metadata": {
        "id": "87gkPCKhMzvI"
      },
      "source": [
        "## Segundo punto\n",
        "**Instrucción**\n",
        "\n",
        "Desarrollar un programa que ingrese un número flotante n y separe su parte entera de la parte decimal, y luego entregue los dígitos tanto de la parte entera como de la decimal.\n",
        "\n",
        "**Explicación de la solución**\n",
        "* Lo primero crearemos dos funciones, una para los decimales y otra para los enteros. Cada una con funciones recursivas. Las funciones bases serán para las listas iguales a 0\n",
        "* Las funciones recursivas de los enteros será el mismo caso que se hizo en el punto 1\n",
        "* Para la lista de los decimales entonces volvemos entero a la parte decimal, actualizamos a la parte decimal hasta que sea mayor a 1 y cuando pasa eso creamos un ciclo en el cual esa decimal sea diferente a la parte decimal que volvimos entera. Vamos añadiendo a lista.\n",
        "* En función main, creamos variable n, listas, y suma de listas\n",
        "\n",
        "**Código**"
      ]
    },
    {
      "cell_type": "code",
      "execution_count": null,
      "metadata": {
        "id": "PoVRQHjyMzvM"
      },
      "outputs": [],
      "source": [
        "#Creamos Funciones, donde serán en función de 'n'\n",
        "def digitosEnteros(n: float) -> float:\n",
        "    #Sacamos la parte entera de 'n'\n",
        "    ent = int(n)\n",
        "\n",
        "    #Hacemos función base, que es si la parte entera es igual a 0\n",
        "    if ent == 0:\n",
        "        enterosLista.append(ent)\n",
        "        return enterosLista\n",
        "    #La función recursiva es sacando cada uno de los dígitos de la parte entera\n",
        "    else:\n",
        "        #Esta misma parte se ve en el punto 1 de este mismo taller.\n",
        "        while ent > 0:\n",
        "            digitos = ent % 10\n",
        "            enterosLista.append(digitos)\n",
        "            ent = ent // 10\n",
        "        enterosListaOrdenado = enterosLista[::-1]\n",
        "        return enterosListaOrdenado\n",
        "\n",
        "def digitosDecimales(n: float) -> float:\n",
        "    #Esta segunda función es para la parte decimal\n",
        "    #Sacamos la parte entera de 'n' y lo restamos con 'n'. De tal manera sacaremos la parte decimal\n",
        "    ent = int(n)\n",
        "    dec = n - ent\n",
        "\n",
        "    #Esta va a ser la función recursiva, si la parte decimal es 0, entonces retornará a esa lista de los decimales 0\n",
        "    if dec == 0:\n",
        "        decimalesLista.append(dec)\n",
        "        return decimalesLista\n",
        "\n",
        "    else:\n",
        "        # Llevamos la parte decimal a que sea 1 o mayor a 1\n",
        "        while dec < 1:\n",
        "            dec *= 10\n",
        "\n",
        "        #Mientras que la parte decimal sea diferente del entero de la parte decimal, se repetirá el ciclo while, en el cual se irán añadiendo los valores de los decimales a la lista de los decimales.\n",
        "        while dec != int(dec):\n",
        "            digitosDec = int(dec) % 10\n",
        "            decimalesLista.append(digitosDec)\n",
        "            dec = dec * 10\n",
        "        return decimalesLista\n",
        "\n",
        "\n",
        "if __name__ == \"__main__\":\n",
        "    #Pedimos que el usuario ingrese un número flotante\n",
        "    n = float(input(\"Ingrese un número flotante: \"))\n",
        "    #Creamos listas para los enteros y para los decimales\n",
        "    enterosLista = []\n",
        "    decimalesLista = []\n",
        "    #Llamamos a las funciones creadas\n",
        "    enteros = digitosEnteros(n)\n",
        "    decimales = digitosDecimales(n)\n",
        "    #Sumamos las listas para que al imprimirse también se imprima los dígitos de todo el número\n",
        "    digitos = enteros + decimales\n",
        "    #Imprimimos las listas de los decimales, la de los enteros y la de todo el número\n",
        "    print(\"Los dígitos enteros son\", enteros)\n",
        "    print(\"Los dígitos decimales son\", decimales)\n",
        "    print(\"Todos los dígitos del número son\", digitos)"
      ]
    }
  ],
  "metadata": {
    "language_info": {
      "name": "python"
    },
    "colab": {
      "provenance": [],
      "include_colab_link": true
    }
  },
  "nbformat": 4,
  "nbformat_minor": 0
}