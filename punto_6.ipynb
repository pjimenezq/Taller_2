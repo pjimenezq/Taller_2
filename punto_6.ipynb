{
 "cells": [
  {
   "cell_type": "code",
   "execution_count": null,
   "metadata": {},
   "outputs": [
    {
     "ename": "",
     "evalue": "",
     "output_type": "error",
     "traceback": [
      "\u001b[1;31mRunning cells with 'c:\\Users\\FAMILIA RODRIGUEZ\\AppData\\Local\\Programs\\Python\\Python311\\python.exe' requires the ipykernel package.\n",
      "\u001b[1;31mRun the following command to install 'ipykernel' into the Python environment. \n",
      "\u001b[1;31mCommand: '\"c:/Users/FAMILIA RODRIGUEZ/AppData/Local/Programs/Python/Python311/python.exe\" -m pip install ipykernel -U --user --force-reinstall'"
     ]
    }
   ],
   "source": [
    "def tiene_elementos_repetidos(lista):\n",
    "    \"\"\"\n",
    "    Función que verifica si una lista tiene elementos repetidos.\n",
    "    Devuelve True si hay elementos repetidos, de lo contrario, devuelve False.\n",
    "    \"\"\"\n",
    "    # Utilizamos un conjunto para almacenar elementos únicos y comparar tamaños\n",
    "    return len(set(lista)) != len(lista)\n",
    "\n",
    "# Lista de ejemplo\n",
    "mi_lista = [1, 2, 3, 4, 5, 1]  # Lista con elementos repetidos\n",
    "\n",
    "# Verificar si la lista tiene elementos repetidos\n",
    "if tiene_elementos_repetidos(mi_lista):\n",
    "    print(\"La lista tiene elementos repetidos.\")\n",
    "else:\n",
    "    print(\"La lista no tiene elementos repetidos.\")\n"
   ]
  }
 ],
 "metadata": {
  "kernelspec": {
   "display_name": "Python 3",
   "language": "python",
   "name": "python3"
  },
  "language_info": {
   "name": "python",
   "version": "3.11.5"
  },
  "orig_nbformat": 4
 },
 "nbformat": 4,
 "nbformat_minor": 2
}
