{
  "cells": [
    {
      "cell_type": "markdown",
      "metadata": {
        "id": "view-in-github",
        "colab_type": "text"
      },
      "source": [
        "<a href=\"https://colab.research.google.com/github/pjimenezq/Taller_2/blob/main/punto4.ipynb\" target=\"_parent\"><img src=\"https://colab.research.google.com/assets/colab-badge.svg\" alt=\"Open In Colab\"/></a>"
      ]
    },
    {
      "cell_type": "markdown",
      "metadata": {
        "id": "CAom0Ym7HbJa"
      },
      "source": [
        "## Cuarto punto\n",
        "**Instrucción**\n",
        "\n",
        "Diseñar una función que permita calcular una aproximación de la función coseno alrededor de 0 para cualquier valor x (real), utilizando los primeros n términos de la serie de Taylor. nota: use math para traer la función coseno y mostrar la diferencia entre el valor real y la aproximación. Calcule con cuántos términos de la serie (i.e: cuáles valores de n), se tienen errores del 10%, 1%, 0.1% y 0.001%.\n",
        "\n",
        "**Explicación de la solución**\n",
        "* Primero lo que se hizo fue importar la librería math y de la librería math importar la función coseno y el factorial\n",
        "* Después se creó la aproximación de la función coseno, en la que se iban a introducir los valores de la base y los valores del exponente. Creamos la variable 'funcCos' la cual igualamos a 0, y a esta variable le sumamos la ecuación de la función, la cual es la que está presentada en el código, segun la serie de terminos de Taylor.\n",
        "* Mencionamos la función main; en la cual le pedimos al usuario que ingrese el número de la base, el exponente será igual a 1, llamamos a la 'AproxFuncCos' y usamos la función coseno real.\n",
        "* Como el exponente es igual a 1, entonces tenemos que crear un ciclo en el que el valor del exponente aumente o disminuya conforme a la necesidad que presenta la base, para ello mientras que la aproximación sea mayor a un margen de error que se determine entonces se le pedirá a 'n' que aumente su valor más 1 hasta que el margen de error se menor al valor determinado.\n",
        "* Por último imprimimos comparando el valor real de la función coseno con el aproximado y la resta entre el valor real con la aproximación.\n",
        "\n",
        "**Código**\n",
        "\n",
        "Para este caso el balance de error tenía que ser menos de 10"
      ]
    },
    {
      "cell_type": "code",
      "execution_count": null,
      "metadata": {
        "id": "ZsXkA6qAHbJe"
      },
      "outputs": [],
      "source": [
        "#Importamos math y de math traemos la función coseno y al factorial\n",
        "from math import cos, factorial\n",
        "#Creamos una función que nos ayude a llegar a la aproximación de la función coseno\n",
        "def aproxFuncCos (x:float, n:int) -> float:\n",
        "    funcCos: float = 0\n",
        "    for i in range(0, n+1):\n",
        "        funcCos += ((-1)**i)*(x**((2*i))/factorial(2*i)) #Esta es la ecuación de la función coseno para hallarla\n",
        "    return funcCos\n",
        "\n",
        "if __name__==\"__main__\":\n",
        "    #Le pedimos al usuario que ingrese un valor para la base\n",
        "    x = float(input(\"Ingrese un valor para la base 'x': \"))\n",
        "    # El exponente tiene valor de 1, porque conforme a la base irá cambiando el exponente\n",
        "    n : int = 1\n",
        "    aprox = aproxFuncCos(x, n) #Llamamos a la aproximación de la función coseno\n",
        "    real = cos(x) #Llamamos a la función coseno real después de importar la librería math\n",
        "\n",
        "    #Para que el exponente sea el correcto creamos un while con la siguiente operación, así miramos la aproximación\n",
        "    while abs((real - aprox)/real*100)>10:\n",
        "        aprox: float = aproxFuncCos(x, n)\n",
        "        #Actualizamos cada vez el exponente conforme al resultado que obtenemos para llegar más fácil a la aproximación\n",
        "        n += 1\n",
        "        # El while se termina cuando el valor que obtenemos es menor al error posible que establecemos en este caso es 10, pero se irá disminuyendo para comprobar el comportamiento de los exponentes\n",
        "    print(n, \" es el valor del exponente para que funcione la aproximación\")\n",
        "\n",
        "    #Restamos el valor real con el exponente\n",
        "    difAprox = real - aprox\n",
        "\n",
        "    #Imprimimos\n",
        "    print(\"La aproximación de la función seno es\", aprox)\n",
        "    print(\"La función seno real es\", real)\n",
        "    print(\"La diferencia de la función real y la aproximación es\", difAprox)"
      ]
    },
    {
      "cell_type": "markdown",
      "metadata": {
        "id": "bEXjGenUHbJg"
      },
      "source": [
        "Cuando el balance de error es menor a 10 los exponentes que toma el ejercicio normalmente toman todos los naturales empezando desde 4, cuando la base es 2 o mayor. Haciendo saltos en el exponente en muy pocas ocasiones, esto saltos eran de dos números. Es decir, en alguna ocasión podía dar saltos de 4 a 6 por ejemplo. Siendo un ejemplo, Se tomó en cuenta cuando la base es de 2 hasta 20.\n",
        "\n",
        "---\n",
        "\n",
        "Siguiente caso, el balance de error debe ser menor a 1"
      ]
    },
    {
      "cell_type": "code",
      "execution_count": null,
      "metadata": {
        "id": "8EIEIx-dHbJh",
        "outputId": "6275509b-518f-4428-cec0-2cadf81152df"
      },
      "outputs": [
        {
          "name": "stdout",
          "output_type": "stream",
          "text": [
            "19  es el valor del exponente para que funcione la aproximación\n",
            "La aproximación de la función seno es 0.004432331478996103\n",
            "La función seno real es 0.004425697988050785\n",
            "La diferencia de la función real y la aproximación es -6.633490945317198e-06\n"
          ]
        }
      ],
      "source": [
        "#Importamos math y de math traemos la función coseno y al factorial\n",
        "from math import cos, factorial\n",
        "#Creamos una función que nos ayude a llegar a la aproximación de la función coseno\n",
        "def aproxFuncCos (x:float, n:int) -> float:\n",
        "    funcCos: float = 0\n",
        "    for i in range(0, n+1):\n",
        "        funcCos += ((-1)**i)*(x**((2*i))/factorial(2*i)) #Esta es la ecuación de la función coseno para hallarla\n",
        "    return funcCos\n",
        "\n",
        "if __name__==\"__main__\":\n",
        "    #Le pedimos al usuario que ingrese un valor para la base\n",
        "    x = float(input(\"Ingrese un valor para la base 'x': \"))\n",
        "    # El exponente tiene valor de 1, porque conforme a la base irá cambiando el exponente\n",
        "    n : int = 1\n",
        "    aprox = aproxFuncCos(x, n) #Llamamos a la aproximación de la función coseno\n",
        "    real = cos(x) #Llamamos a la función coseno real después de importar la librería math\n",
        "\n",
        "    #Para que el exponente sea el correcto creamos un while con la siguiente operación, así miramos la aproximación\n",
        "    while abs((real - aprox)/real*100)>1:\n",
        "        aprox: float = aproxFuncCos(x, n)\n",
        "        #Actualizamos cada vez el exponente conforme al resultado que obtenemos para llegar más fácil a la aproximación\n",
        "        n += 1\n",
        "        # El while se termina cuando el valor que obtenemos es menor al error posible que establecemos en este caso es 1, pero se irá disminuyendo para comprobar el comportamiento de los exponentes\n",
        "    print(n, \" es el valor del exponente para que funcione la aproximación\")\n",
        "\n",
        "    #Restamos el valor real con el exponente\n",
        "    difAprox = real - aprox\n",
        "\n",
        "    #Imprimimos\n",
        "    print(\"La aproximación de la función seno es\", aprox)\n",
        "    print(\"La función seno real es\", real)\n",
        "    print(\"La diferencia de la función real y la aproximación es\", difAprox)"
      ]
    },
    {
      "cell_type": "markdown",
      "metadata": {
        "id": "jx5ijBN4HbJi"
      },
      "source": [
        "En este caso podemos apreciar que el comportamiento de los exponentes cambia, ya es más seguido que se salten número naturales. Pasa un caso interesante cuando elegimos que la base sea 11, y cuando elegimos que la base sea 12. Nos damos cuenta que envés de que el exponente siga creciendo, en este caso disminuye, después de esto sigue en crecimiento. Seguramente esto pase por el comportamiento de la función coseno al ser una función periódica en el cual el valor más alto que puede tomar en el eje y es 1. Tener en cuenta que x tomó los valores de 1 a 20 en esta ocasión.\n",
        "\n",
        "---\n",
        "\n",
        "Siguiente caso, el balance de error debe ser menor a 0.1"
      ]
    },
    {
      "cell_type": "code",
      "execution_count": null,
      "metadata": {
        "id": "0eniPqb9HbJj",
        "outputId": "7468119f-994a-4e6f-c029-d608e6b99108"
      },
      "outputs": [
        {
          "name": "stdout",
          "output_type": "stream",
          "text": [
            "30  es el valor del exponente para que funcione la aproximación\n",
            "La aproximación de la función seno es 0.40795683389781207\n",
            "La función seno real es 0.40808206181339196\n",
            "La diferencia de la función real y la aproximación es 0.0001252279155798952\n"
          ]
        }
      ],
      "source": [
        "#Importamos math y de math traemos la función coseno y al factorial\n",
        "from math import cos, factorial\n",
        "#Creamos una función que nos ayude a llegar a la aproximación de la función coseno\n",
        "def aproxFuncCos (x:float, n:int) -> float:\n",
        "    funcCos: float = 0\n",
        "    for i in range(0, n+1):\n",
        "        funcCos += ((-1)**i)*(x**((2*i))/factorial(2*i)) #Esta es la ecuación de la función coseno para hallarla\n",
        "    return funcCos\n",
        "\n",
        "if __name__==\"__main__\":\n",
        "    #Le pedimos al usuario que ingrese un valor para la base\n",
        "    x = float(input(\"Ingrese un valor para la base 'x': \"))\n",
        "    # El exponente tiene valor de 1, porque conforme a la base irá cambiando el exponente\n",
        "    n : int = 1\n",
        "    aprox = aproxFuncCos(x, n) #Llamamos a la aproximación de la función coseno\n",
        "    real = cos(x) #Llamamos a la función coseno real después de importar la librería math\n",
        "\n",
        "    #Para que el exponente sea el correcto creamos un while con la siguiente operación, así miramos la aproximación\n",
        "    while abs((real - aprox)/real*100)>0.1:\n",
        "        aprox: float = aproxFuncCos(x, n)\n",
        "        #Actualizamos cada vez el exponente conforme al resultado que obtenemos para llegar más fácil a la aproximación\n",
        "        n += 1\n",
        "        # El while se termina cuando el valor que obtenemos es menor al error posible que establecemos en este caso es 0.1, pero se irá disminuyendo para comprobar el comportamiento de los exponentes\n",
        "    print(n, \" es el valor del exponente para que funcione la aproximación\")\n",
        "\n",
        "    #Restamos el valor real con el exponente\n",
        "    difAprox = real - aprox\n",
        "\n",
        "    #Imprimimos\n",
        "    print(\"La aproximación de la función seno es\", aprox)\n",
        "    print(\"La función seno real es\", real)\n",
        "    print(\"La diferencia de la función real y la aproximación es\", difAprox)"
      ]
    },
    {
      "cell_type": "markdown",
      "metadata": {
        "id": "EkBMGbWaHbJj"
      },
      "source": [
        "Se empiezan a tomar saltos más amplios en los número naturales que puede tomar los exponentes, sabiendo que es necesario para que se cumpla la condición que se está poniendo. Hay saltos en ocasiones de cuatro números, posiblemente en punto específicos de la función en los cuales se demuestran en la gráfica de la función. Se tomaron en cuenta datos para la base de 1 a 20.\n",
        "\n",
        "---\n",
        "\n",
        "Siguiente caso, el balance de error debe ser menor a 0.001"
      ]
    },
    {
      "cell_type": "code",
      "execution_count": null,
      "metadata": {
        "id": "wDGDIpIjHbJj",
        "outputId": "6eb8d11e-5d4f-4f37-ed6b-ae0c8383e439"
      },
      "outputs": [
        {
          "name": "stdout",
          "output_type": "stream",
          "text": [
            "32  es el valor del exponente para que funcione la aproximación\n",
            "La aproximación de la función seno es 0.4080807355133717\n",
            "La función seno real es 0.40808206181339196\n",
            "La diferencia de la función real y la aproximación es 1.3263000202545783e-06\n"
          ]
        }
      ],
      "source": [
        "#Importamos math y de math traemos la función coseno y al factorial\n",
        "from math import cos, factorial\n",
        "#Creamos una función que nos ayude a llegar a la aproximación de la función coseno\n",
        "def aproxFuncCos (x:float, n:int) -> float:\n",
        "    funcCos: float = 0\n",
        "    for i in range(0, n+1):\n",
        "        funcCos += ((-1)**i)*(x**((2*i))/factorial(2*i)) #Esta es la ecuación de la función coseno para hallarla\n",
        "    return funcCos\n",
        "\n",
        "if __name__==\"__main__\":\n",
        "    #Le pedimos al usuario que ingrese un valor para la base\n",
        "    x = float(input(\"Ingrese un valor para la base 'x': \"))\n",
        "    # El exponente tiene valor de 1, porque conforme a la base irá cambiando el exponente\n",
        "    n : int = 1\n",
        "    aprox = aproxFuncCos(x, n) #Llamamos a la aproximación de la función coseno\n",
        "    real = cos(x) #Llamamos a la función coseno real después de importar la librería math\n",
        "\n",
        "    #Para que el exponente sea el correcto creamos un while con la siguiente operación, así miramos la aproximación\n",
        "    while abs((real - aprox)/real*100)>0.001:\n",
        "        aprox: float = aproxFuncCos(x, n)\n",
        "        #Actualizamos cada vez el exponente conforme al resultado que obtenemos para llegar más fácil a la aproximación\n",
        "        n += 1\n",
        "        # El while se termina cuando el valor que obtenemos es menor al error posible que establecemos en este caso es 0.001, pero se irá disminuyendo para comprobar el comportamiento de los exponentes\n",
        "    print(n, \" es el valor del exponente para que funcione la aproximación\")\n",
        "\n",
        "    #Restamos el valor real con el exponente\n",
        "    difAprox = real - aprox\n",
        "\n",
        "    #Imprimimos\n",
        "    print(\"La aproximación de la función seno es\", aprox)\n",
        "    print(\"La función seno real es\", real)\n",
        "    print(\"La diferencia de la función real y la aproximación es\", difAprox)"
      ]
    },
    {
      "cell_type": "markdown",
      "metadata": {
        "id": "9xYSEg1vHbJk"
      },
      "source": [
        "Como se ve en los anteriores casos cada vez la suma de los exponentes crece más porque el margen de error es mucho menor, por lo que la cifra tiene que ser mucho más exacta. Se tomaron los valores para la base desde 1 hasta 20."
      ]
    }
  ],
  "metadata": {
    "kernelspec": {
      "display_name": "Python 3",
      "language": "python",
      "name": "python3"
    },
    "language_info": {
      "codemirror_mode": {
        "name": "ipython",
        "version": 3
      },
      "file_extension": ".py",
      "mimetype": "text/x-python",
      "name": "python",
      "nbconvert_exporter": "python",
      "pygments_lexer": "ipython3",
      "version": "3.11.4"
    },
    "colab": {
      "provenance": [],
      "include_colab_link": true
    }
  },
  "nbformat": 4,
  "nbformat_minor": 0
}