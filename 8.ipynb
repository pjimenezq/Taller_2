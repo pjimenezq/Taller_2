{
 "cells": [
  {
   "cell_type": "markdown",
   "metadata": {},
   "source": [
    "# Punto ocho\n",
    "\n",
    "Desarrollar un programa que dadas dos listas determine que elementos tiene la primer lista que no tenga la segunda lista."
   ]
  },
  {
   "cell_type": "code",
   "execution_count": 1,
   "metadata": {},
   "outputs": [
    {
     "name": "stdout",
     "output_type": "stream",
     "text": [
      "Los elementos que tiene la primer lista que no tiene la segunda lista son [1, True]\n"
     ]
    }
   ],
   "source": [
    "def diferenciaLista(primeraLista,segundaLista):#Declarando función diferenciaLista, la cual determina los elementos que tiene una lista que no tiene otra lista\n",
    "    for x in segundaLista:#Para cada elemento en la segunda lista\n",
    "        for y in primeraLista:#Para cada elemento en la primera lista\n",
    "            if x==y:#Si el elemento de la segunda lista es igual al elemento de la primera lista\n",
    "                primeraLista.remove(x)#Eliminar el elemento en común de la primera lista\n",
    "    return primeraLista#Retornar la primera lista (donde sus elementos son los que la segunda lista no tiene)\n",
    "\n",
    "\n",
    "if __name__==\"__main__\":#Función principal\n",
    "    #Declarando las dos listas y sus elementos\n",
    "    listaUno=[1, 'Hola', -12.3 ,True]\n",
    "    listaDos=[11, -12.3, 'Hola', False]\n",
    "    elementosPrimera=diferenciaLista(listaUno,listaDos)#Llamando la función diferenciaLista\n",
    "    print(\"Los elementos que tiene la primer lista que no tiene la segunda lista son \"+str(elementosPrimera))#Imprimiendo la lista con los elementos que solo tiene la primera lista"
   ]
  }
 ],
 "metadata": {
  "kernelspec": {
   "display_name": "Python 3",
   "language": "python",
   "name": "python3"
  },
  "language_info": {
   "codemirror_mode": {
    "name": "ipython",
    "version": 3
   },
   "file_extension": ".py",
   "mimetype": "text/x-python",
   "name": "python",
   "nbconvert_exporter": "python",
   "pygments_lexer": "ipython3",
   "version": "3.11.4"
  }
 },
 "nbformat": 4,
 "nbformat_minor": 2
}
