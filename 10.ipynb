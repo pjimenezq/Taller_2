{
 "cells": [
  {
   "cell_type": "markdown",
   "metadata": {},
   "source": [
    "# Punto diez\n",
    "\n",
    "Suponga que se tiene una lista A con ciertos números enteros. Desarrolle una función que, independientemente de los números que se encuentran en la lista A, tome aquellos números que son múltiplos de 3 y los guarde en una lista nueva, la cual debe ser retornada por la función. Implemente la perspectiva de un patrón de acumulación y también de comprensión de listas"
   ]
  },
  {
   "cell_type": "code",
   "execution_count": 3,
   "metadata": {},
   "outputs": [
    {
     "name": "stdout",
     "output_type": "stream",
     "text": [
      "Los números que son múltiplos de tres son: [33, 45, 21, 18]\n"
     ]
    }
   ],
   "source": [
    "# Perspectiva de un patrón de acumulación\n",
    "\n",
    "def multiplosTres(lista):#Declarando función multiplosTres\n",
    "    listaNueva=[]#Creando lista vacia\n",
    "    for num in lista:#para cada elemento de la lista\n",
    "        if num%3==0:#si el residuo del elemento dividido entre 3 es igual a 0, el elemento es múltiplo de 3\n",
    "            listaNueva.append(num)#Se agrega ese elemento a la lista que estaba vacia\n",
    "    return(listaNueva)#Se retorna la lista con los múltiplos de tres\n",
    "\n",
    "if __name__==\"__main__\":#Función principal\n",
    "    listaA=[33,45,61,22,5,21,18]#Se declara la lista A y sus elementos\n",
    "    multiplosDeTres=multiplosTres(listaA)#Se llama la función multiplosTres\n",
    "    print(\"Los números que son múltiplos de tres son: \"+ str(multiplosDeTres))#Se imprimen los elementos que son múltiplos de tres de la lista A"
   ]
  },
  {
   "cell_type": "code",
   "execution_count": 4,
   "metadata": {},
   "outputs": [
    {
     "name": "stdout",
     "output_type": "stream",
     "text": [
      "Los números que son múltiplos de tres son: [33, 99, 15]\n"
     ]
    }
   ],
   "source": [
    "# Comprensión de listas\n",
    "\n",
    "def multiplosTresComprension(lista):#Declarando función MultiplosTresComprension\n",
    "    listaFinal=[num for num in lista if num%3==0]#Los elementos de la lista final son aquellos elementos de la lista que si se dividen entre tres el residuo es igual a cero\n",
    "    return(listaFinal)#Se retorna la lista final con los múltiplos de tres\n",
    "\n",
    "\n",
    "if __name__==\"__main__\":#Función principal\n",
    "    listaA=[7,23,35,33,67,99,15]#Se declara la lista A y sus elementos\n",
    "    multiplosDeTresComprension=multiplosTresComprension(listaA)#Se llama la función multiplosTresComprension\n",
    "    print(\"Los números que son múltiplos de tres son: \"+ str(multiplosDeTresComprension))#Se imprimen los elementos que son múltiplos de tres de la lista A"
   ]
  }
 ],
 "metadata": {
  "kernelspec": {
   "display_name": "Python 3",
   "language": "python",
   "name": "python3"
  },
  "language_info": {
   "codemirror_mode": {
    "name": "ipython",
    "version": 3
   },
   "file_extension": ".py",
   "mimetype": "text/x-python",
   "name": "python",
   "nbconvert_exporter": "python",
   "pygments_lexer": "ipython3",
   "version": "3.11.4"
  }
 },
 "nbformat": 4,
 "nbformat_minor": 2
}
